{
 "cells": [
  {
   "cell_type": "markdown",
   "id": "34125189",
   "metadata": {},
   "source": [
    "It is a dataset including information on amazon job opening around the world from June 2011 to March 2018. This dataset is collected using Selenium and BeautifulSoup by scraping all of the jobs for Amazon job site."
   ]
  },
  {
   "cell_type": "markdown",
   "id": "7db6eec3",
   "metadata": {},
   "source": [
    "# Question : "
   ]
  },
  {
   "cell_type": "markdown",
   "id": "32f67dde",
   "metadata": {},
   "source": [
    "Find number of job openings in Bangalore,IN and in Seattle,US?\n",
    "Print the Number of Job opening in Bangalore and Seattle as Integer value."
   ]
  },
  {
   "cell_type": "code",
   "execution_count": 1,
   "id": "e698d70e",
   "metadata": {},
   "outputs": [
    {
     "name": "stdout",
     "output_type": "stream",
     "text": [
      "66 1856\n"
     ]
    }
   ],
   "source": [
    "import csv\n",
    "with open('C:/amazon_jobs_dataset.csv', encoding=\"utf8\") as file_obj:\n",
    "    file_data=csv.reader(file_obj,skipinitialspace=True)\n",
    "    file_list=list(file_data)\n",
    "    count_Banglore=0\n",
    "    count_Seattle=0\n",
    "    for row in file_list[1:]:\n",
    "        if row[2]==\"US, WA, Seattle \":\n",
    "            count_Seattle+=1      \n",
    "        elif row[2]==\"IN, KA, Bangalore \":\n",
    "            count_Banglore+=1\n",
    "    print(count_Banglore, count_Seattle)"
   ]
  },
  {
   "cell_type": "markdown",
   "id": "857f76de",
   "metadata": {},
   "source": [
    "# Question : "
   ]
  },
  {
   "cell_type": "markdown",
   "id": "315040f1",
   "metadata": {},
   "source": [
    "What are the total number of job openings related to Computer Vision ?\n",
    "Note:For finding the job related to computer vision check the Job Title column.\n",
    "Print the count as the Integer Value."
   ]
  },
  {
   "cell_type": "code",
   "execution_count": 3,
   "id": "adfc970c",
   "metadata": {},
   "outputs": [
    {
     "name": "stdout",
     "output_type": "stream",
     "text": [
      "14\n"
     ]
    }
   ],
   "source": [
    "import csv\n",
    "with open('C:/amazon_jobs_dataset.csv', encoding=\"utf8\") as file_obj:\n",
    "    file_data=csv.DictReader(file_obj,skipinitialspace=True)\n",
    "    \n",
    "    file_list=list(file_data)\n",
    "    count=0\n",
    "    for row in file_list:\n",
    "        key=row['Title']\n",
    "        if \"Computer\" in key:\n",
    "            count=count+1\n",
    "    print(count)"
   ]
  },
  {
   "cell_type": "markdown",
   "id": "69d274b5",
   "metadata": {},
   "source": [
    "# Question :"
   ]
  },
  {
   "cell_type": "markdown",
   "id": "0f5313ee",
   "metadata": {},
   "source": [
    "Find the number of job openings in Canada?\n",
    "Print the count as the Integer Value\n",
    "Note: Here you should analyse the country code in location feature.( you can use dictionary for analyse part )."
   ]
  },
  {
   "cell_type": "code",
   "execution_count": 6,
   "id": "c3421e17",
   "metadata": {},
   "outputs": [
    {
     "name": "stdout",
     "output_type": "stream",
     "text": [
      "156\n"
     ]
    }
   ],
   "source": [
    "import csv\n",
    "with open('C:/amazon_jobs_dataset.csv', encoding=\"utf8\") as file_obj:\n",
    "    file_data=csv.DictReader(file_obj,skipinitialspace=True)\n",
    "    \n",
    "    file_list=list(file_data)\n",
    "    count=0\n",
    "    for row in file_list:\n",
    "        key=row['location'].split(',')\n",
    "        if \"CA\" in key:\n",
    "            count=count+1\n",
    "    print(count)"
   ]
  },
  {
   "cell_type": "markdown",
   "id": "8dfd0521",
   "metadata": {},
   "source": [
    "# Question :"
   ]
  },
  {
   "cell_type": "markdown",
   "id": "315e8302",
   "metadata": {},
   "source": [
    "Find the month having most job openings in Year 2018 ?\n",
    "Print the month (Month Name i.e January, February, March) and Number of job opening as Integer Value"
   ]
  },
  {
   "cell_type": "code",
   "execution_count": 8,
   "id": "3ea6f96f",
   "metadata": {},
   "outputs": [
    {
     "name": "stdout",
     "output_type": "stream",
     "text": [
      "January 907\n"
     ]
    }
   ],
   "source": [
    "import csv\n",
    "with open('C:/amazon_jobs_dataset.csv', encoding=\"utf8\") as file_obj:\n",
    "    file_data=csv.DictReader(file_obj,skipinitialspace=True)\n",
    "    \n",
    "    file_list=list(file_data)\n",
    "    \n",
    "    month_count={}\n",
    "    for row in file_list:\n",
    "        year=row['Posting_date'].split(', ')[1]\n",
    "        if year==\"2018\":\n",
    "            key = row['Posting_date'].split(' ')[0]\n",
    "            month_count[key]= month_count.get(key,0)+1\n",
    "            \n",
    "maximum = max(month_count,key = month_count.get)\n",
    "\n",
    "print(maximum, month_count[maximum])"
   ]
  },
  {
   "cell_type": "markdown",
   "id": "8ada26ae",
   "metadata": {},
   "source": [
    "# Question :"
   ]
  },
  {
   "cell_type": "markdown",
   "id": "5c2e87a8",
   "metadata": {},
   "source": [
    "Find the number of job openings are present if applicant have Bachelor degree?\n",
    "Print the count as Integer value\n",
    "Note : Here we will use the BASIC QUALIFICATIONS feature to find out whether bachelor degree for Job is required or not. Keywords that can be used are 'Bachelor', 'BS' and 'BA'."
   ]
  },
  {
   "cell_type": "code",
   "execution_count": 9,
   "id": "217546ad",
   "metadata": {},
   "outputs": [
    {
     "name": "stdout",
     "output_type": "stream",
     "text": [
      "2961\n"
     ]
    }
   ],
   "source": [
    "import csv\n",
    "with open('C:/amazon_jobs_dataset.csv', encoding = \"utf8\") as file_obj:\n",
    "    file_data=csv.DictReader(file_obj,skipinitialspace=True)\n",
    "    count=0\n",
    "    \n",
    "    for row in file_data:\n",
    "        key = row[\"BASIC QUALIFICATIONS\"] \n",
    "    \n",
    "        if \"Bachelor\" in key or \"BA\" in key or \"BS\" in key:\n",
    "            count=count+1\n",
    "    print(count)"
   ]
  },
  {
   "cell_type": "markdown",
   "id": "06a83d8b",
   "metadata": {},
   "source": [
    "# Question :"
   ]
  },
  {
   "cell_type": "markdown",
   "id": "5f7ede8f",
   "metadata": {},
   "source": [
    "Among Java, C++ and Python, which of the language has more job openings in India for Bachelor Degree Holder?\n",
    "Print the Language(i.e Java,C++,Python) and number of job opening as integer value.\n",
    "Note : Here we will use the BASIC QUALIFICATIONS feature to find out whether bachelor degree for Job is required or not. Keywords that can be used are 'Bachelor', 'BS' and 'BA' and we will use the BASIC QUALIFICATIONS feature to find out whether Language is required for the job or not.Keywords that is used for language searching are 'Java','C++' or 'Python'.(There case should not be changed)."
   ]
  },
  {
   "cell_type": "code",
   "execution_count": 10,
   "id": "d94d4a05",
   "metadata": {},
   "outputs": [
    {
     "name": "stdout",
     "output_type": "stream",
     "text": [
      "Java 103\n"
     ]
    }
   ],
   "source": [
    "import csv\n",
    "with open('C:/amazon_jobs_dataset.csv', encoding = \"utf8\") as file_obj:\n",
    "    file_data=csv.DictReader(file_obj,skipinitialspace=True)\n",
    "    countj=0\n",
    "    countc=0\n",
    "    countp=0\n",
    "    \n",
    "    for row in file_data:\n",
    "        key = row[\"BASIC QUALIFICATIONS\"]\n",
    "        value = row[\"BASIC QUALIFICATIONS\"]\n",
    "        loc = row[\"location\"]\n",
    "        \n",
    "        if row['location'][:2]=='IN':\n",
    "            if \"Bachelor\" in key or \"BA\" in key or \"BS\" in key:\n",
    "                if 'Java' in row['BASIC QUALIFICATIONS']:\n",
    "                    countj += 1\n",
    "                if 'C++' in row['BASIC QUALIFICATIONS']:\n",
    "                    countc += 1\n",
    "                if 'Python' in row['BASIC QUALIFICATIONS']:\n",
    "                    countp += 1\n",
    "    max_count=max(countj,max(countc,countp))\n",
    "    if max_count == countj:\n",
    "        print('Java', max_count)\n",
    "    elif max_count == countc:\n",
    "        print('C++', max_count)\n",
    "    else:\n",
    "        print('Python', max_count)\n"
   ]
  },
  {
   "cell_type": "markdown",
   "id": "bb220800",
   "metadata": {},
   "source": [
    "# Question : "
   ]
  },
  {
   "cell_type": "markdown",
   "id": "dff33c62",
   "metadata": {},
   "source": [
    "Find the country does Amazon need the most number of Java Developer?\n",
    "Print the Country(Country Shortcut as given in Dataset) and number of job opening as integer value\n",
    "Note :Here we will use the BASIC QUALIFICATIONS feature to find out whether Java is required for the job or not.Keyword is used is 'Java'.(Here case should not be changed).\n"
   ]
  },
  {
   "cell_type": "code",
   "execution_count": 12,
   "id": "e9578668",
   "metadata": {},
   "outputs": [
    {
     "name": "stdout",
     "output_type": "stream",
     "text": [
      "US 2009\n"
     ]
    }
   ],
   "source": [
    "import csv\n",
    "with open('C:/amazon_jobs_dataset.csv', encoding = \"utf8\") as file_obj:\n",
    "    file_list=list(csv.DictReader(file_obj))\n",
    "    \n",
    "    d={}\n",
    "    maxi=0\n",
    "    maxc=\" \"    \n",
    "    for row in file_list:\n",
    "        req=row['BASIC QUALIFICATIONS']\n",
    "        country=row['location'].split(',')[0]\n",
    "        if \"Java\" in req:\n",
    "            d[country]=d.get(country,0)+1\n",
    "            if(d[country]>maxi):\n",
    "                maxi=d[country]\n",
    "                maxc=country\n",
    "    print(maxc,maxi)"
   ]
  }
 ],
 "metadata": {
  "kernelspec": {
   "display_name": "Python 3",
   "language": "python",
   "name": "python3"
  },
  "language_info": {
   "codemirror_mode": {
    "name": "ipython",
    "version": 3
   },
   "file_extension": ".py",
   "mimetype": "text/x-python",
   "name": "python",
   "nbconvert_exporter": "python",
   "pygments_lexer": "ipython3",
   "version": "3.8.8"
  }
 },
 "nbformat": 4,
 "nbformat_minor": 5
}
